{
 "cells": [
  {
   "cell_type": "code",
   "execution_count": 1,
   "id": "1af0c1fb",
   "metadata": {
    "_cell_guid": "b1076dfc-b9ad-4769-8c92-a6c4dae69d19",
    "_uuid": "8f2839f25d086af736a60e9eeb907d3b93b6e0e5",
    "execution": {
     "iopub.execute_input": "2025-03-01T06:59:20.315936Z",
     "iopub.status.busy": "2025-03-01T06:59:20.315549Z",
     "iopub.status.idle": "2025-03-01T06:59:21.283807Z",
     "shell.execute_reply": "2025-03-01T06:59:21.282540Z"
    },
    "papermill": {
     "duration": 0.977641,
     "end_time": "2025-03-01T06:59:21.285791",
     "exception": false,
     "start_time": "2025-03-01T06:59:20.308150",
     "status": "completed"
    },
    "tags": []
   },
   "outputs": [
    {
     "name": "stdout",
     "output_type": "stream",
     "text": [
      "/kaggle/input/pcos-diagnosis-dataset/pcos_dataset.csv\n"
     ]
    }
   ],
   "source": [
    "# This Python 3 environment comes with many helpful analytics libraries installed\n",
    "# It is defined by the kaggle/python Docker image: https://github.com/kaggle/docker-python\n",
    "# For example, here's several helpful packages to load\n",
    "\n",
    "import numpy as np # linear algebra\n",
    "import pandas as pd # data processing, CSV file I/O (e.g. pd.read_csv)\n",
    "\n",
    "# Input data files are available in the read-only \"../input/\" directory\n",
    "# For example, running this (by clicking run or pressing Shift+Enter) will list all files under the input directory\n",
    "\n",
    "import os\n",
    "for dirname, _, filenames in os.walk('/kaggle/input'):\n",
    "    for filename in filenames:\n",
    "        print(os.path.join(dirname, filename))\n",
    "\n",
    "# You can write up to 20GB to the current directory (/kaggle/working/) that gets preserved as output when you create a version using \"Save & Run All\" \n",
    "# You can also write temporary files to /kaggle/temp/, but they won't be saved outside of the current session"
   ]
  },
  {
   "cell_type": "code",
   "execution_count": 2,
   "id": "6c1cc60c",
   "metadata": {
    "execution": {
     "iopub.execute_input": "2025-03-01T06:59:21.293907Z",
     "iopub.status.busy": "2025-03-01T06:59:21.293387Z",
     "iopub.status.idle": "2025-03-01T06:59:21.311792Z",
     "shell.execute_reply": "2025-03-01T06:59:21.310692Z"
    },
    "papermill": {
     "duration": 0.024494,
     "end_time": "2025-03-01T06:59:21.313834",
     "exception": false,
     "start_time": "2025-03-01T06:59:21.289340",
     "status": "completed"
    },
    "tags": []
   },
   "outputs": [],
   "source": [
    "df = pd.read_csv('/kaggle/input/pcos-diagnosis-dataset/pcos_dataset.csv')"
   ]
  },
  {
   "cell_type": "code",
   "execution_count": 3,
   "id": "d4e7966f",
   "metadata": {
    "execution": {
     "iopub.execute_input": "2025-03-01T06:59:21.322500Z",
     "iopub.status.busy": "2025-03-01T06:59:21.322083Z",
     "iopub.status.idle": "2025-03-01T06:59:21.351070Z",
     "shell.execute_reply": "2025-03-01T06:59:21.349953Z"
    },
    "papermill": {
     "duration": 0.035798,
     "end_time": "2025-03-01T06:59:21.352915",
     "exception": false,
     "start_time": "2025-03-01T06:59:21.317117",
     "status": "completed"
    },
    "tags": []
   },
   "outputs": [
    {
     "data": {
      "text/html": [
       "<div>\n",
       "<style scoped>\n",
       "    .dataframe tbody tr th:only-of-type {\n",
       "        vertical-align: middle;\n",
       "    }\n",
       "\n",
       "    .dataframe tbody tr th {\n",
       "        vertical-align: top;\n",
       "    }\n",
       "\n",
       "    .dataframe thead th {\n",
       "        text-align: right;\n",
       "    }\n",
       "</style>\n",
       "<table border=\"1\" class=\"dataframe\">\n",
       "  <thead>\n",
       "    <tr style=\"text-align: right;\">\n",
       "      <th></th>\n",
       "      <th>Age</th>\n",
       "      <th>BMI</th>\n",
       "      <th>Menstrual_Irregularity</th>\n",
       "      <th>Testosterone_Level(ng/dL)</th>\n",
       "      <th>Antral_Follicle_Count</th>\n",
       "      <th>PCOS_Diagnosis</th>\n",
       "    </tr>\n",
       "  </thead>\n",
       "  <tbody>\n",
       "    <tr>\n",
       "      <th>0</th>\n",
       "      <td>24</td>\n",
       "      <td>34.7</td>\n",
       "      <td>1</td>\n",
       "      <td>25.2</td>\n",
       "      <td>20</td>\n",
       "      <td>0</td>\n",
       "    </tr>\n",
       "    <tr>\n",
       "      <th>1</th>\n",
       "      <td>37</td>\n",
       "      <td>26.4</td>\n",
       "      <td>0</td>\n",
       "      <td>57.1</td>\n",
       "      <td>25</td>\n",
       "      <td>0</td>\n",
       "    </tr>\n",
       "    <tr>\n",
       "      <th>2</th>\n",
       "      <td>32</td>\n",
       "      <td>23.6</td>\n",
       "      <td>0</td>\n",
       "      <td>92.7</td>\n",
       "      <td>28</td>\n",
       "      <td>0</td>\n",
       "    </tr>\n",
       "    <tr>\n",
       "      <th>3</th>\n",
       "      <td>28</td>\n",
       "      <td>28.8</td>\n",
       "      <td>0</td>\n",
       "      <td>63.1</td>\n",
       "      <td>26</td>\n",
       "      <td>0</td>\n",
       "    </tr>\n",
       "    <tr>\n",
       "      <th>4</th>\n",
       "      <td>25</td>\n",
       "      <td>22.1</td>\n",
       "      <td>1</td>\n",
       "      <td>59.8</td>\n",
       "      <td>8</td>\n",
       "      <td>0</td>\n",
       "    </tr>\n",
       "  </tbody>\n",
       "</table>\n",
       "</div>"
      ],
      "text/plain": [
       "   Age   BMI  Menstrual_Irregularity  Testosterone_Level(ng/dL)  \\\n",
       "0   24  34.7                       1                       25.2   \n",
       "1   37  26.4                       0                       57.1   \n",
       "2   32  23.6                       0                       92.7   \n",
       "3   28  28.8                       0                       63.1   \n",
       "4   25  22.1                       1                       59.8   \n",
       "\n",
       "   Antral_Follicle_Count  PCOS_Diagnosis  \n",
       "0                     20               0  \n",
       "1                     25               0  \n",
       "2                     28               0  \n",
       "3                     26               0  \n",
       "4                      8               0  "
      ]
     },
     "execution_count": 3,
     "metadata": {},
     "output_type": "execute_result"
    }
   ],
   "source": [
    "df.head(5)"
   ]
  },
  {
   "cell_type": "markdown",
   "id": "d9dd7f58",
   "metadata": {
    "papermill": {
     "duration": 0.002912,
     "end_time": "2025-03-01T06:59:21.359320",
     "exception": false,
     "start_time": "2025-03-01T06:59:21.356408",
     "status": "completed"
    },
    "tags": []
   },
   "source": [
    "## Understanding the data"
   ]
  },
  {
   "cell_type": "code",
   "execution_count": 4,
   "id": "fba593e7",
   "metadata": {
    "execution": {
     "iopub.execute_input": "2025-03-01T06:59:21.366783Z",
     "iopub.status.busy": "2025-03-01T06:59:21.366405Z",
     "iopub.status.idle": "2025-03-01T06:59:21.393839Z",
     "shell.execute_reply": "2025-03-01T06:59:21.392748Z"
    },
    "papermill": {
     "duration": 0.033304,
     "end_time": "2025-03-01T06:59:21.395692",
     "exception": false,
     "start_time": "2025-03-01T06:59:21.362388",
     "status": "completed"
    },
    "tags": []
   },
   "outputs": [
    {
     "name": "stdout",
     "output_type": "stream",
     "text": [
      "<class 'pandas.core.frame.DataFrame'>\n",
      "RangeIndex: 1000 entries, 0 to 999\n",
      "Data columns (total 6 columns):\n",
      " #   Column                     Non-Null Count  Dtype  \n",
      "---  ------                     --------------  -----  \n",
      " 0   Age                        1000 non-null   int64  \n",
      " 1   BMI                        1000 non-null   float64\n",
      " 2   Menstrual_Irregularity     1000 non-null   int64  \n",
      " 3   Testosterone_Level(ng/dL)  1000 non-null   float64\n",
      " 4   Antral_Follicle_Count      1000 non-null   int64  \n",
      " 5   PCOS_Diagnosis             1000 non-null   int64  \n",
      "dtypes: float64(2), int64(4)\n",
      "memory usage: 47.0 KB\n"
     ]
    }
   ],
   "source": [
    "df.info()"
   ]
  },
  {
   "cell_type": "code",
   "execution_count": 5,
   "id": "9361d878",
   "metadata": {
    "execution": {
     "iopub.execute_input": "2025-03-01T06:59:21.403825Z",
     "iopub.status.busy": "2025-03-01T06:59:21.403495Z",
     "iopub.status.idle": "2025-03-01T06:59:21.410935Z",
     "shell.execute_reply": "2025-03-01T06:59:21.409972Z"
    },
    "papermill": {
     "duration": 0.013464,
     "end_time": "2025-03-01T06:59:21.412571",
     "exception": false,
     "start_time": "2025-03-01T06:59:21.399107",
     "status": "completed"
    },
    "tags": []
   },
   "outputs": [
    {
     "data": {
      "text/plain": [
       "Age                          0\n",
       "BMI                          0\n",
       "Menstrual_Irregularity       0\n",
       "Testosterone_Level(ng/dL)    0\n",
       "Antral_Follicle_Count        0\n",
       "PCOS_Diagnosis               0\n",
       "dtype: int64"
      ]
     },
     "execution_count": 5,
     "metadata": {},
     "output_type": "execute_result"
    }
   ],
   "source": [
    "df.isnull().sum()"
   ]
  },
  {
   "cell_type": "code",
   "execution_count": 6,
   "id": "81640f2d",
   "metadata": {
    "execution": {
     "iopub.execute_input": "2025-03-01T06:59:21.420624Z",
     "iopub.status.busy": "2025-03-01T06:59:21.420267Z",
     "iopub.status.idle": "2025-03-01T06:59:21.427801Z",
     "shell.execute_reply": "2025-03-01T06:59:21.426680Z"
    },
    "papermill": {
     "duration": 0.013612,
     "end_time": "2025-03-01T06:59:21.429623",
     "exception": false,
     "start_time": "2025-03-01T06:59:21.416011",
     "status": "completed"
    },
    "tags": []
   },
   "outputs": [
    {
     "data": {
      "text/plain": [
       "0"
      ]
     },
     "execution_count": 6,
     "metadata": {},
     "output_type": "execute_result"
    }
   ],
   "source": [
    "df.duplicated().sum()"
   ]
  },
  {
   "cell_type": "code",
   "execution_count": 7,
   "id": "3e3669e6",
   "metadata": {
    "execution": {
     "iopub.execute_input": "2025-03-01T06:59:21.438104Z",
     "iopub.status.busy": "2025-03-01T06:59:21.437726Z",
     "iopub.status.idle": "2025-03-01T06:59:23.213153Z",
     "shell.execute_reply": "2025-03-01T06:59:23.211904Z"
    },
    "papermill": {
     "duration": 1.781941,
     "end_time": "2025-03-01T06:59:23.215361",
     "exception": false,
     "start_time": "2025-03-01T06:59:21.433420",
     "status": "completed"
    },
    "tags": []
   },
   "outputs": [],
   "source": [
    "import matplotlib.pyplot as plt\n",
    "import seaborn as sns"
   ]
  },
  {
   "cell_type": "code",
   "execution_count": 8,
   "id": "8339bef0",
   "metadata": {
    "execution": {
     "iopub.execute_input": "2025-03-01T06:59:23.225913Z",
     "iopub.status.busy": "2025-03-01T06:59:23.225171Z",
     "iopub.status.idle": "2025-03-01T06:59:23.573974Z",
     "shell.execute_reply": "2025-03-01T06:59:23.572403Z"
    },
    "papermill": {
     "duration": 0.35671,
     "end_time": "2025-03-01T06:59:23.576002",
     "exception": false,
     "start_time": "2025-03-01T06:59:23.219292",
     "status": "completed"
    },
    "tags": []
   },
   "outputs": [
    {
     "name": "stdout",
     "output_type": "stream",
     "text": [
      "PCOS_Diagnosis\n",
      "0    801\n",
      "1    199\n",
      "Name: count, dtype: int64\n"
     ]
    },
    {
     "name": "stderr",
     "output_type": "stream",
     "text": [
      "/usr/local/lib/python3.10/dist-packages/seaborn/_oldcore.py:1119: FutureWarning: use_inf_as_na option is deprecated and will be removed in a future version. Convert inf values to NaN before operating instead.\n",
      "  with pd.option_context('mode.use_inf_as_na', True):\n"
     ]
    },
    {
     "data": {
      "image/png": "[encoded data removed]",
      "text/plain": [
       "<Figure size 640x480 with 1 Axes>"
      ]
     },
     "metadata": {},
     "output_type": "display_data"
    }
   ],
   "source": [
    "#first we need to understand diagnosis distribution\n",
    "values = df['PCOS_Diagnosis'].value_counts()\n",
    "print(values)\n",
    "\n",
    "sns.histplot(df['PCOS_Diagnosis'],kde=True,color='orange')\n",
    "plt.show()"
   ]
  },
  {
   "cell_type": "code",
   "execution_count": 9,
   "id": "956b97fd",
   "metadata": {
    "execution": {
     "iopub.execute_input": "2025-03-01T06:59:23.586129Z",
     "iopub.status.busy": "2025-03-01T06:59:23.585715Z",
     "iopub.status.idle": "2025-03-01T06:59:23.800336Z",
     "shell.execute_reply": "2025-03-01T06:59:23.799135Z"
    },
    "papermill": {
     "duration": 0.222,
     "end_time": "2025-03-01T06:59:23.802305",
     "exception": false,
     "start_time": "2025-03-01T06:59:23.580305",
     "status": "completed"
    },
    "tags": []
   },
   "outputs": [
    {
     "name": "stderr",
     "output_type": "stream",
     "text": [
      "/usr/local/lib/python3.10/dist-packages/seaborn/_oldcore.py:1119: FutureWarning: use_inf_as_na option is deprecated and will be removed in a future version. Convert inf values to NaN before operating instead.\n",
      "  with pd.option_context('mode.use_inf_as_na', True):\n"
     ]
    },
    {
     "data": {
      "image/png": "[encoded data removed]",
      "text/plain": [
       "<Figure size 640x480 with 1 Axes>"
      ]
     },
     "metadata": {},
     "output_type": "display_data"
    }
   ],
   "source": [
    "sns.histplot(df['Age'],kde=True,color='orange')\n",
    "plt.show()"
   ]
  },
  {
   "cell_type": "code",
   "execution_count": null,
   "id": "fe4d2814",
   "metadata": {
    "papermill": {
     "duration": 0.004419,
     "end_time": "2025-03-01T06:59:23.811740",
     "exception": false,
     "start_time": "2025-03-01T06:59:23.807321",
     "status": "completed"
    },
    "tags": []
   },
   "outputs": [],
   "source": []
  }
 ],
 "metadata": {
  "kaggle": {
   "accelerator": "none",
   "dataSources": [
    {
     "datasetId": 6702154,
     "sourceId": 10798632,
     "sourceType": "datasetVersion"
    }
   ],
   "dockerImageVersionId": 30918,
   "isGpuEnabled": false,
   "isInternetEnabled": true,
   "language": "python",
   "sourceType": "notebook"
  },
  "kernelspec": {
   "display_name": "Python 3",
   "language": "python",
   "name": "python3"
  },
  "language_info": {
   "codemirror_mode": {
    "name": "ipython",
    "version": 3
   },
   "file_extension": ".py",
   "mimetype": "text/x-python",
   "name": "python",
   "nbconvert_exporter": "python",
   "pygments_lexer": "ipython3",
   "version": "3.10.12"
  },
  "papermill": {
   "default_parameters": {},
   "duration": 7.191113,
   "end_time": "2025-03-01T06:59:24.537516",
   "environment_variables": {},
   "exception": null,
   "input_path": "__notebook__.ipynb",
   "output_path": "__notebook__.ipynb",
   "parameters": {},
   "start_time": "2025-03-01T06:59:17.346403",
   "version": "2.6.0"
  }
 },
 "nbformat": 4,
 "nbformat_minor": 5
}
